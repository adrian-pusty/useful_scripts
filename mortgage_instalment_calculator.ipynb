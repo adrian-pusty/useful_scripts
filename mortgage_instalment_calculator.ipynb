{
 "cells": [
  {
   "cell_type": "code",
   "execution_count": null,
   "metadata": {},
   "outputs": [],
   "source": [
    "amount = 250000\n",
    "years = 25\n",
    "instalments_per_year = 12\n",
    "rate = 0.0228 # 5% -> rate = 0.05\n",
    "\n",
    "instalments = years * instalments_per_year"
   ]
  },
  {
   "cell_type": "code",
   "execution_count": null,
   "metadata": {},
   "outputs": [],
   "source": [
    "def format_to_str(value, decimals):\n",
    "    floating_part = '.' + str(decimals) + 'f'\n",
    "    return '[' + str(format(round(value, decimals), floating_part)) + ']'\n",
    "\n",
    "def format_to_str_2fp(value):\n",
    "    return format_to_str(value,2)\n",
    "\n",
    "def print_decreasing_instalments(index, capital_part, interest_part):\n",
    "    print(str(i) + '. Instalment: ' + format_to_str_2fp(capital_part + interest_part) + ', Capital part: ' + format_to_str_2fp(capital_part) + ', Interest part: ' + format_to_str_2fp(interest_part))"
   ]
  },
  {
   "cell_type": "code",
   "execution_count": null,
   "metadata": {},
   "outputs": [],
   "source": [
    "equal_instalment = (amount * rate) / (instalments_per_year * (1 - pow((instalments_per_year/(instalments_per_year+rate)), instalments)))"
   ]
  },
  {
   "cell_type": "code",
   "execution_count": null,
   "metadata": {},
   "outputs": [],
   "source": [
    "print('\\n\\nEqual instalment      ------------------------------------------------')\n",
    "print('Instalment: ' + format_to_str_2fp(equal_instalment))\n",
    "print('Sum of all: ' + format_to_str_2fp(instalments*equal_instalment))\n",
    "print('\\n\\nDecreasing instalment ------------------------------------------------')\n",
    "capital_part = amount / instalments\n",
    "\n",
    "left_to_be_paid = amount\n",
    "sum_of_decreasing_instalments = 0.0\n",
    "\n",
    "for i in range(0, int(instalments)):\n",
    "    print()\n",
    "    interest = left_to_be_paid * (1/instalments_per_year) * rate\n",
    "    print_decreasing_instalments(i+1, capital_part, interest)\n",
    "    left_to_be_paid -= capital_part\n",
    "    sum_of_decreasing_instalments += (capital_part + interest)\n",
    "print('Sum of all: ' + format_to_str_2fp(sum_of_decreasing_instalments))\n"
   ]
  },
  {
   "cell_type": "code",
   "execution_count": null,
   "metadata": {},
   "outputs": [],
   "source": []
  }
 ],
 "metadata": {
  "kernelspec": {
   "display_name": "Python 3",
   "language": "python",
   "name": "python3"
  },
  "language_info": {
   "codemirror_mode": {
    "name": "ipython",
    "version": 3
   },
   "file_extension": ".py",
   "mimetype": "text/x-python",
   "name": "python",
   "nbconvert_exporter": "python",
   "pygments_lexer": "ipython3",
   "version": "3.7.3"
  }
 },
 "nbformat": 4,
 "nbformat_minor": 4
}
